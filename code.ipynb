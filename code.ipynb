{
 "cells": [
  {
   "cell_type": "code",
   "execution_count": 1,
   "id": "de54b501",
   "metadata": {},
   "outputs": [],
   "source": [
    "import numpy as np\n",
    "import cv2\n",
    "import os\n",
    "from tensorflow.keras.models import Sequential\n",
    "from tensorflow.keras.layers import Conv2D, MaxPooling2D, Flatten, Dense, Dropout\n",
    "from tensorflow.keras.preprocessing.image import ImageDataGenerator\n",
    "from tensorflow.keras.applications import MobileNet\n",
    "from tensorflow.keras.optimizers import Adam\n",
    "from sklearn.metrics import confusion_matrix, accuracy_score\n",
    "import matplotlib.pyplot as plt\n",
    "from tabulate import tabulate"
   ]
  },
  {
   "cell_type": "code",
   "execution_count": 2,
   "id": "8651f5b3",
   "metadata": {},
   "outputs": [],
   "source": [
    "# Data preprocessing\n",
    "def load_and_preprocess_data(data_dir):\n",
    "    images = []\n",
    "    labels = []\n",
    "    for class_dir in os.listdir(data_dir):\n",
    "        class_path = os.path.join(data_dir, class_dir)\n",
    "        if os.path.isdir(class_path):\n",
    "            for img_file in os.listdir(class_path):\n",
    "                img_path = os.path.join(class_path, img_file)\n",
    "                img = cv2.imread(img_path)\n",
    "                img = cv2.resize(img, (32, 32))  # Resize to 32x32\n",
    "                img = img / 255.0  # Normalize\n",
    "                images.append(img)\n",
    "                labels.append(int(class_dir))\n",
    "    return np.array(images), np.array(labels)\n"
   ]
  },
  {
   "cell_type": "code",
   "execution_count": 3,
   "id": "5610191b",
   "metadata": {},
   "outputs": [],
   "source": [
    "# Load data (assuming GTSRB dataset structure)\n",
    "data_dir = \"dataset\\Train\"\n",
    "X, y = load_and_preprocess_data(data_dir)"
   ]
  },
  {
   "cell_type": "code",
   "execution_count": 4,
   "id": "d23ba162",
   "metadata": {},
   "outputs": [],
   "source": [
    "# Split data into train and test sets\n",
    "from sklearn.model_selection import train_test_split\n",
    "X_train, X_test, y_train, y_test = train_test_split(X, y, test_size=0.2, random_state=42)"
   ]
  },
  {
   "cell_type": "code",
   "execution_count": 5,
   "id": "76aeb5ef",
   "metadata": {},
   "outputs": [],
   "source": [
    "# Data augmentation\n",
    "datagen = ImageDataGenerator(\n",
    "    rotation_range=10,\n",
    "    zoom_range=0.1,\n",
    "    width_shift_range=0.1,\n",
    "    height_shift_range=0.1,\n",
    "    horizontal_flip=False\n",
    ")\n",
    "datagen.fit(X_train)"
   ]
  },
  {
   "cell_type": "code",
   "execution_count": 6,
   "id": "fce64607",
   "metadata": {},
   "outputs": [
    {
     "name": "stderr",
     "output_type": "stream",
     "text": [
      "c:\\Users\\hafee\\AppData\\Local\\Programs\\Python\\Python310\\lib\\site-packages\\keras\\src\\layers\\convolutional\\base_conv.py:113: UserWarning: Do not pass an `input_shape`/`input_dim` argument to a layer. When using Sequential models, prefer using an `Input(shape)` object as the first layer in the model instead.\n",
      "  super().__init__(activity_regularizer=activity_regularizer, **kwargs)\n"
     ]
    },
    {
     "name": "stdout",
     "output_type": "stream",
     "text": [
      "Epoch 1/10\n"
     ]
    },
    {
     "name": "stderr",
     "output_type": "stream",
     "text": [
      "c:\\Users\\hafee\\AppData\\Local\\Programs\\Python\\Python310\\lib\\site-packages\\keras\\src\\trainers\\data_adapters\\py_dataset_adapter.py:121: UserWarning: Your `PyDataset` class should call `super().__init__(**kwargs)` in its constructor. `**kwargs` can include `workers`, `use_multiprocessing`, `max_queue_size`. Do not pass these arguments to `fit()`, as they will be ignored.\n",
      "  self._warn_if_super_not_called()\n"
     ]
    },
    {
     "name": "stdout",
     "output_type": "stream",
     "text": [
      "\u001b[1m981/981\u001b[0m \u001b[32m━━━━━━━━━━━━━━━━━━━━\u001b[0m\u001b[37m\u001b[0m \u001b[1m20s\u001b[0m 19ms/step - accuracy: 0.3251 - loss: 2.3603 - val_accuracy: 0.6788 - val_loss: 1.0244\n",
      "Epoch 2/10\n",
      "\u001b[1m981/981\u001b[0m \u001b[32m━━━━━━━━━━━━━━━━━━━━\u001b[0m\u001b[37m\u001b[0m \u001b[1m18s\u001b[0m 19ms/step - accuracy: 0.5601 - loss: 1.3486 - val_accuracy: 0.8193 - val_loss: 0.5836\n",
      "Epoch 3/10\n",
      "\u001b[1m981/981\u001b[0m \u001b[32m━━━━━━━━━━━━━━━━━━━━\u001b[0m\u001b[37m\u001b[0m \u001b[1m18s\u001b[0m 19ms/step - accuracy: 0.6577 - loss: 1.0298 - val_accuracy: 0.8888 - val_loss: 0.3827\n",
      "Epoch 4/10\n",
      "\u001b[1m981/981\u001b[0m \u001b[32m━━━━━━━━━━━━━━━━━━━━\u001b[0m\u001b[37m\u001b[0m \u001b[1m19s\u001b[0m 19ms/step - accuracy: 0.7165 - loss: 0.8408 - val_accuracy: 0.9223 - val_loss: 0.2678\n",
      "Epoch 5/10\n",
      "\u001b[1m981/981\u001b[0m \u001b[32m━━━━━━━━━━━━━━━━━━━━\u001b[0m\u001b[37m\u001b[0m \u001b[1m19s\u001b[0m 19ms/step - accuracy: 0.7612 - loss: 0.7152 - val_accuracy: 0.9536 - val_loss: 0.2254\n",
      "Epoch 6/10\n",
      "\u001b[1m981/981\u001b[0m \u001b[32m━━━━━━━━━━━━━━━━━━━━\u001b[0m\u001b[37m\u001b[0m \u001b[1m18s\u001b[0m 19ms/step - accuracy: 0.7943 - loss: 0.6153 - val_accuracy: 0.9560 - val_loss: 0.1430\n",
      "Epoch 7/10\n",
      "\u001b[1m981/981\u001b[0m \u001b[32m━━━━━━━━━━━━━━━━━━━━\u001b[0m\u001b[37m\u001b[0m \u001b[1m19s\u001b[0m 19ms/step - accuracy: 0.8240 - loss: 0.5372 - val_accuracy: 0.9767 - val_loss: 0.1013\n",
      "Epoch 8/10\n",
      "\u001b[1m981/981\u001b[0m \u001b[32m━━━━━━━━━━━━━━━━━━━━\u001b[0m\u001b[37m\u001b[0m \u001b[1m18s\u001b[0m 19ms/step - accuracy: 0.8452 - loss: 0.4740 - val_accuracy: 0.9834 - val_loss: 0.0890\n",
      "Epoch 9/10\n",
      "\u001b[1m981/981\u001b[0m \u001b[32m━━━━━━━━━━━━━━━━━━━━\u001b[0m\u001b[37m\u001b[0m \u001b[1m18s\u001b[0m 19ms/step - accuracy: 0.8584 - loss: 0.4391 - val_accuracy: 0.9837 - val_loss: 0.0746\n",
      "Epoch 10/10\n",
      "\u001b[1m981/981\u001b[0m \u001b[32m━━━━━━━━━━━━━━━━━━━━\u001b[0m\u001b[37m\u001b[0m \u001b[1m18s\u001b[0m 19ms/step - accuracy: 0.8736 - loss: 0.3886 - val_accuracy: 0.9856 - val_loss: 0.0553\n"
     ]
    }
   ],
   "source": [
    "# Custom CNN model\n",
    "custom_cnn = Sequential([\n",
    "    Conv2D(32, (3, 3), activation='relu', input_shape=(32, 32, 3)),\n",
    "    MaxPooling2D(pool_size=(2, 2)),\n",
    "    Conv2D(64, (3, 3), activation='relu'),\n",
    "    MaxPooling2D(pool_size=(2, 2)),\n",
    "    Flatten(),\n",
    "    Dense(128, activation='relu'),\n",
    "    Dropout(0.5),\n",
    "    Dense(len(np.unique(y)), activation='softmax')\n",
    "])\n",
    "\n",
    "custom_cnn.compile(optimizer=Adam(learning_rate=0.001), loss='sparse_categorical_crossentropy', metrics=['accuracy'])\n",
    "history_custom = custom_cnn.fit(datagen.flow(X_train, y_train, batch_size=32), epochs=10, validation_data=(X_test, y_test))"
   ]
  },
  {
   "cell_type": "code",
   "execution_count": 7,
   "id": "55c03856",
   "metadata": {},
   "outputs": [
    {
     "name": "stderr",
     "output_type": "stream",
     "text": [
      "C:\\Users\\hafee\\AppData\\Local\\Temp\\ipykernel_14128\\3515789058.py:3: UserWarning: `input_shape` is undefined or non-square, or `rows` is not in [128, 160, 192, 224]. Weights for input shape (224, 224) will be loaded as the default.\n",
      "  base_model = MobileNet(weights='imagenet', include_top=False, input_shape=(32, 32, 3))\n"
     ]
    },
    {
     "name": "stdout",
     "output_type": "stream",
     "text": [
      "Epoch 1/10\n",
      "\u001b[1m981/981\u001b[0m \u001b[32m━━━━━━━━━━━━━━━━━━━━\u001b[0m\u001b[37m\u001b[0m \u001b[1m116s\u001b[0m 109ms/step - accuracy: 0.4140 - loss: 2.0856 - val_accuracy: 0.6137 - val_loss: 1.1751\n",
      "Epoch 2/10\n",
      "\u001b[1m981/981\u001b[0m \u001b[32m━━━━━━━━━━━━━━━━━━━━\u001b[0m\u001b[37m\u001b[0m \u001b[1m104s\u001b[0m 106ms/step - accuracy: 0.6592 - loss: 1.1200 - val_accuracy: 0.6793 - val_loss: 1.0397\n",
      "Epoch 3/10\n",
      "\u001b[1m981/981\u001b[0m \u001b[32m━━━━━━━━━━━━━━━━━━━━\u001b[0m\u001b[37m\u001b[0m \u001b[1m104s\u001b[0m 106ms/step - accuracy: 0.7670 - loss: 0.7995 - val_accuracy: 0.8758 - val_loss: 0.3604\n",
      "Epoch 4/10\n",
      "\u001b[1m981/981\u001b[0m \u001b[32m━━━━━━━━━━━━━━━━━━━━\u001b[0m\u001b[37m\u001b[0m \u001b[1m108s\u001b[0m 110ms/step - accuracy: 0.8358 - loss: 0.5834 - val_accuracy: 0.8962 - val_loss: 0.3211\n",
      "Epoch 5/10\n",
      "\u001b[1m981/981\u001b[0m \u001b[32m━━━━━━━━━━━━━━━━━━━━\u001b[0m\u001b[37m\u001b[0m \u001b[1m105s\u001b[0m 107ms/step - accuracy: 0.8807 - loss: 0.4449 - val_accuracy: 0.9435 - val_loss: 0.1956\n",
      "Epoch 6/10\n",
      "\u001b[1m981/981\u001b[0m \u001b[32m━━━━━━━━━━━━━━━━━━━━\u001b[0m\u001b[37m\u001b[0m \u001b[1m99s\u001b[0m 101ms/step - accuracy: 0.9033 - loss: 0.3696 - val_accuracy: 0.9578 - val_loss: 0.1435\n",
      "Epoch 7/10\n",
      "\u001b[1m981/981\u001b[0m \u001b[32m━━━━━━━━━━━━━━━━━━━━\u001b[0m\u001b[37m\u001b[0m \u001b[1m100s\u001b[0m 102ms/step - accuracy: 0.9193 - loss: 0.3108 - val_accuracy: 0.9513 - val_loss: 0.1972\n",
      "Epoch 8/10\n",
      "\u001b[1m981/981\u001b[0m \u001b[32m━━━━━━━━━━━━━━━━━━━━\u001b[0m\u001b[37m\u001b[0m \u001b[1m99s\u001b[0m 101ms/step - accuracy: 0.9253 - loss: 0.3018 - val_accuracy: 0.9716 - val_loss: 0.0896\n",
      "Epoch 9/10\n",
      "\u001b[1m981/981\u001b[0m \u001b[32m━━━━━━━━━━━━━━━━━━━━\u001b[0m\u001b[37m\u001b[0m \u001b[1m102s\u001b[0m 104ms/step - accuracy: 0.9428 - loss: 0.2320 - val_accuracy: 0.9700 - val_loss: 0.1382\n",
      "Epoch 10/10\n",
      "\u001b[1m981/981\u001b[0m \u001b[32m━━━━━━━━━━━━━━━━━━━━\u001b[0m\u001b[37m\u001b[0m \u001b[1m103s\u001b[0m 105ms/step - accuracy: 0.9435 - loss: 0.2391 - val_accuracy: 0.9725 - val_loss: 0.1062\n"
     ]
    }
   ],
   "source": [
    "# Pre-trained MobileNet model\n",
    "try:\n",
    "    base_model = MobileNet(weights='imagenet', include_top=False, input_shape=(32, 32, 3))\n",
    "except Exception as e:\n",
    "    print(f\"Failed to load pre-trained weights: {e}. Training MobileNet from scratch.\")\n",
    "    base_model = MobileNet(weights=None, include_top=False, input_shape=(32, 32, 3))\n",
    "\n",
    "mobilenet_model = Sequential([\n",
    "    base_model,\n",
    "    Flatten(),\n",
    "    Dense(128, activation='relu'),\n",
    "    Dropout(0.5),\n",
    "    Dense(len(np.unique(y)), activation='softmax')\n",
    "])\n",
    "\n",
    "mobilenet_model.compile(optimizer=Adam(learning_rate=0.001), loss='sparse_categorical_crossentropy', metrics=['accuracy'])\n",
    "history_mobilenet = mobilenet_model.fit(datagen.flow(X_train, y_train, batch_size=32), epochs=10, validation_data=(X_test, y_test))"
   ]
  },
  {
   "cell_type": "code",
   "execution_count": 8,
   "id": "1697f460",
   "metadata": {},
   "outputs": [
    {
     "name": "stdout",
     "output_type": "stream",
     "text": [
      "\u001b[1m246/246\u001b[0m \u001b[32m━━━━━━━━━━━━━━━━━━━━\u001b[0m\u001b[37m\u001b[0m \u001b[1m1s\u001b[0m 3ms/step\n",
      "\u001b[1m246/246\u001b[0m \u001b[32m━━━━━━━━━━━━━━━━━━━━\u001b[0m\u001b[37m\u001b[0m \u001b[1m6s\u001b[0m 21ms/step\n",
      "Custom CNN Accuracy: 0.9855904106095383\n",
      "MobileNet Accuracy: 0.9724560061208876\n"
     ]
    }
   ],
   "source": [
    "# Evaluate models\n",
    "y_pred_custom = np.argmax(custom_cnn.predict(X_test), axis=1)\n",
    "y_pred_mobilenet = np.argmax(mobilenet_model.predict(X_test), axis=1)\n",
    "\n",
    "acc_custom = accuracy_score(y_test, y_pred_custom)\n",
    "acc_mobilenet = accuracy_score(y_test, y_pred_mobilenet)\n",
    "print(f\"Custom CNN Accuracy: {acc_custom}\")\n",
    "print(f\"MobileNet Accuracy: {acc_mobilenet}\")"
   ]
  },
  {
   "cell_type": "code",
   "execution_count": 9,
   "id": "9d4ec87f",
   "metadata": {},
   "outputs": [],
   "source": [
    "# Compute confusion matrices\n",
    "conf_matrix_custom = confusion_matrix(y_test, y_pred_custom)\n",
    "conf_matrix_mobilenet = confusion_matrix(y_test, y_pred_mobilenet)"
   ]
  },
  {
   "cell_type": "code",
   "execution_count": 10,
   "id": "f1155512",
   "metadata": {},
   "outputs": [],
   "source": [
    "# Function to calculate TP, TN, FP, FN for each class\n",
    "def calculate_metrics(conf_matrix, num_classes):\n",
    "    metrics = []\n",
    "    for i in range(num_classes):\n",
    "        TP = conf_matrix[i, i]\n",
    "        FP = conf_matrix[:, i].sum() - TP\n",
    "        FN = conf_matrix[i, :].sum() - TP\n",
    "        TN = conf_matrix.sum() - (TP + FP + FN)\n",
    "        metrics.append([i, TP, TN, FP, FN])\n",
    "    return metrics\n",
    "\n",
    "num_classes = len(np.unique(y))\n",
    "metrics_custom = calculate_metrics(conf_matrix_custom, num_classes)\n",
    "metrics_mobilenet = calculate_metrics(conf_matrix_mobilenet, num_classes)"
   ]
  },
  {
   "cell_type": "code",
   "execution_count": 11,
   "id": "7916bc9e",
   "metadata": {},
   "outputs": [
    {
     "name": "stdout",
     "output_type": "stream",
     "text": [
      "\n",
      "Custom CNN Metrics (TP, TN, FP, FN per class):\n",
      "+---------+------+------+------+------+\n",
      "|   Class |   TP |   TN |   FP |   FN |\n",
      "+=========+======+======+======+======+\n",
      "|       0 |   34 | 7804 |    0 |    4 |\n",
      "+---------+------+------+------+------+\n",
      "|       1 |  488 | 7340 |    6 |    8 |\n",
      "+---------+------+------+------+------+\n",
      "|       2 |  412 | 7417 |    5 |    8 |\n",
      "+---------+------+------+------+------+\n",
      "|       3 |  283 | 7546 |    2 |   11 |\n",
      "+---------+------+------+------+------+\n",
      "|       4 |  399 | 7440 |    2 |    1 |\n",
      "+---------+------+------+------+------+\n",
      "|       5 |  345 | 7459 |   19 |   19 |\n",
      "+---------+------+------+------+------+\n",
      "|       6 |   69 | 7773 |    0 |    0 |\n",
      "+---------+------+------+------+------+\n",
      "|       7 |  281 | 7523 |    6 |   32 |\n",
      "+---------+------+------+------+------+\n",
      "|       8 |  273 | 7523 |   45 |    1 |\n",
      "+---------+------+------+------+------+\n",
      "|       9 |  275 | 7565 |    0 |    2 |\n",
      "+---------+------+------+------+------+\n",
      "|      10 |  398 | 7442 |    2 |    0 |\n",
      "+---------+------+------+------+------+\n",
      "|      11 |  258 | 7581 |    0 |    3 |\n",
      "+---------+------+------+------+------+\n",
      "|      12 |  443 | 7399 |    0 |    0 |\n",
      "+---------+------+------+------+------+\n",
      "|      13 |  422 | 7419 |    1 |    0 |\n",
      "+---------+------+------+------+------+\n",
      "|      14 |  134 | 7707 |    0 |    1 |\n",
      "+---------+------+------+------+------+\n",
      "|      15 |  118 | 7724 |    0 |    0 |\n",
      "+---------+------+------+------+------+\n",
      "|      16 |   86 | 7756 |    0 |    0 |\n",
      "+---------+------+------+------+------+\n",
      "|      17 |  240 | 7601 |    1 |    0 |\n",
      "+---------+------+------+------+------+\n",
      "|      18 |  215 | 7624 |    3 |    0 |\n",
      "+---------+------+------+------+------+\n",
      "|      19 |   42 | 7800 |    0 |    0 |\n",
      "+---------+------+------+------+------+\n",
      "|      20 |   55 | 7785 |    0 |    2 |\n",
      "+---------+------+------+------+------+\n",
      "|      21 |   64 | 7775 |    0 |    3 |\n",
      "+---------+------+------+------+------+\n",
      "|      22 |   57 | 7785 |    0 |    0 |\n",
      "+---------+------+------+------+------+\n",
      "|      23 |  104 | 7736 |    0 |    2 |\n",
      "+---------+------+------+------+------+\n",
      "|      24 |   61 | 7774 |    7 |    0 |\n",
      "+---------+------+------+------+------+\n",
      "|      25 |  328 | 7507 |    7 |    0 |\n",
      "+---------+------+------+------+------+\n",
      "|      26 |  118 | 7721 |    0 |    3 |\n",
      "+---------+------+------+------+------+\n",
      "|      27 |   53 | 7782 |    0 |    7 |\n",
      "+---------+------+------+------+------+\n",
      "|      28 |  101 | 7738 |    1 |    2 |\n",
      "+---------+------+------+------+------+\n",
      "|      29 |   54 | 7786 |    2 |    0 |\n",
      "+---------+------+------+------+------+\n",
      "|      30 |   85 | 7756 |    0 |    1 |\n",
      "+---------+------+------+------+------+\n",
      "|      31 |  156 | 7683 |    3 |    0 |\n",
      "+---------+------+------+------+------+\n",
      "|      32 |   34 | 7808 |    0 |    0 |\n",
      "+---------+------+------+------+------+\n",
      "|      33 |  153 | 7689 |    0 |    0 |\n",
      "+---------+------+------+------+------+\n",
      "|      34 |   78 | 7763 |    0 |    1 |\n",
      "+---------+------+------+------+------+\n",
      "|      35 |  240 | 7602 |    0 |    0 |\n",
      "+---------+------+------+------+------+\n",
      "|      36 |   76 | 7766 |    0 |    0 |\n",
      "+---------+------+------+------+------+\n",
      "|      37 |   48 | 7794 |    0 |    0 |\n",
      "+---------+------+------+------+------+\n",
      "|      38 |  434 | 7407 |    1 |    0 |\n",
      "+---------+------+------+------+------+\n",
      "|      39 |   53 | 7789 |    0 |    0 |\n",
      "+---------+------+------+------+------+\n",
      "|      40 |   76 | 7764 |    0 |    2 |\n",
      "+---------+------+------+------+------+\n",
      "|      41 |   40 | 7802 |    0 |    0 |\n",
      "+---------+------+------+------+------+\n",
      "|      42 |   46 | 7796 |    0 |    0 |\n",
      "+---------+------+------+------+------+\n",
      "\n",
      "MobileNet Metrics (TP, TN, FP, FN per class):\n",
      "+---------+------+------+------+------+\n",
      "|   Class |   TP |   TN |   FP |   FN |\n",
      "+=========+======+======+======+======+\n",
      "|       0 |   34 | 7793 |   11 |    4 |\n",
      "+---------+------+------+------+------+\n",
      "|       1 |  467 | 7344 |    2 |   29 |\n",
      "+---------+------+------+------+------+\n",
      "|       2 |  394 | 7414 |    8 |   26 |\n",
      "+---------+------+------+------+------+\n",
      "|       3 |  283 | 7546 |    2 |   11 |\n",
      "+---------+------+------+------+------+\n",
      "|       4 |  379 | 7441 |    1 |   21 |\n",
      "+---------+------+------+------+------+\n",
      "|       5 |  354 | 7436 |   42 |   10 |\n",
      "+---------+------+------+------+------+\n",
      "|       6 |   69 | 7762 |   11 |    0 |\n",
      "+---------+------+------+------+------+\n",
      "|       7 |  298 | 7525 |    4 |   15 |\n",
      "+---------+------+------+------+------+\n",
      "|       8 |  272 | 7520 |   48 |    2 |\n",
      "+---------+------+------+------+------+\n",
      "|       9 |  277 | 7561 |    4 |    0 |\n",
      "+---------+------+------+------+------+\n",
      "|      10 |  393 | 7444 |    0 |    5 |\n",
      "+---------+------+------+------+------+\n",
      "|      11 |  246 | 7580 |    1 |   15 |\n",
      "+---------+------+------+------+------+\n",
      "|      12 |  443 | 7399 |    0 |    0 |\n",
      "+---------+------+------+------+------+\n",
      "|      13 |  422 | 7419 |    1 |    0 |\n",
      "+---------+------+------+------+------+\n",
      "|      14 |  134 | 7707 |    0 |    1 |\n",
      "+---------+------+------+------+------+\n",
      "|      15 |  117 | 7724 |    0 |    1 |\n",
      "+---------+------+------+------+------+\n",
      "|      16 |   86 | 7756 |    0 |    0 |\n",
      "+---------+------+------+------+------+\n",
      "|      17 |  240 | 7601 |    1 |    0 |\n",
      "+---------+------+------+------+------+\n",
      "|      18 |  213 | 7620 |    7 |    2 |\n",
      "+---------+------+------+------+------+\n",
      "|      19 |   34 | 7800 |    0 |    8 |\n",
      "+---------+------+------+------+------+\n",
      "|      20 |   55 | 7782 |    3 |    2 |\n",
      "+---------+------+------+------+------+\n",
      "|      21 |   52 | 7775 |    0 |   15 |\n",
      "+---------+------+------+------+------+\n",
      "|      22 |   57 | 7776 |    9 |    0 |\n",
      "+---------+------+------+------+------+\n",
      "|      23 |  104 | 7732 |    4 |    2 |\n",
      "+---------+------+------+------+------+\n",
      "|      24 |   57 | 7779 |    2 |    4 |\n",
      "+---------+------+------+------+------+\n",
      "|      25 |  322 | 7513 |    1 |    6 |\n",
      "+---------+------+------+------+------+\n",
      "|      26 |  114 | 7716 |    5 |    7 |\n",
      "+---------+------+------+------+------+\n",
      "|      27 |   59 | 7767 |   15 |    1 |\n",
      "+---------+------+------+------+------+\n",
      "|      28 |   98 | 7731 |    8 |    5 |\n",
      "+---------+------+------+------+------+\n",
      "|      29 |   54 | 7783 |    5 |    0 |\n",
      "+---------+------+------+------+------+\n",
      "|      30 |   82 | 7754 |    2 |    4 |\n",
      "+---------+------+------+------+------+\n",
      "|      31 |  156 | 7675 |   11 |    0 |\n",
      "+---------+------+------+------+------+\n",
      "|      32 |   34 | 7808 |    0 |    0 |\n",
      "+---------+------+------+------+------+\n",
      "|      33 |  153 | 7686 |    3 |    0 |\n",
      "+---------+------+------+------+------+\n",
      "|      34 |   74 | 7763 |    0 |    5 |\n",
      "+---------+------+------+------+------+\n",
      "|      35 |  240 | 7600 |    2 |    0 |\n",
      "+---------+------+------+------+------+\n",
      "|      36 |   76 | 7766 |    0 |    0 |\n",
      "+---------+------+------+------+------+\n",
      "|      37 |   48 | 7794 |    0 |    0 |\n",
      "+---------+------+------+------+------+\n",
      "|      38 |  434 | 7405 |    3 |    0 |\n",
      "+---------+------+------+------+------+\n",
      "|      39 |   50 | 7789 |    0 |    3 |\n",
      "+---------+------+------+------+------+\n",
      "|      40 |   77 | 7764 |    0 |    1 |\n",
      "+---------+------+------+------+------+\n",
      "|      41 |   40 | 7802 |    0 |    0 |\n",
      "+---------+------+------+------+------+\n",
      "|      42 |   35 | 7796 |    0 |   11 |\n",
      "+---------+------+------+------+------+\n"
     ]
    }
   ],
   "source": [
    "# Display confusion matrices with TP, TN, FP, FN\n",
    "print(\"\\nCustom CNN Metrics (TP, TN, FP, FN per class):\")\n",
    "print(tabulate(metrics_custom, headers=[\"Class\", \"TP\", \"TN\", \"FP\", \"FN\"], tablefmt=\"grid\"))\n",
    "\n",
    "print(\"\\nMobileNet Metrics (TP, TN, FP, FN per class):\")\n",
    "print(tabulate(metrics_mobilenet, headers=[\"Class\", \"TP\", \"TN\", \"FP\", \"FN\"], tablefmt=\"grid\"))"
   ]
  },
  {
   "cell_type": "code",
   "execution_count": 12,
   "id": "4fbffb45",
   "metadata": {},
   "outputs": [
    {
     "data": {
      "image/png": "[encoded data removed]",
      "text/plain": [
       "<Figure size 640x480 with 1 Axes>"
      ]
     },
     "metadata": {},
     "output_type": "display_data"
    }
   ],
   "source": [
    "# Plot accuracy\n",
    "plt.plot(history_custom.history['accuracy'], label='Custom CNN')\n",
    "plt.plot(history_mobilenet.history['accuracy'], label='MobileNet')\n",
    "plt.title('Model Accuracy')\n",
    "plt.xlabel('Epoch')\n",
    "plt.ylabel('Accuracy')\n",
    "plt.legend()\n",
    "plt.show()"
   ]
  },
  {
   "cell_type": "code",
   "execution_count": 13,
   "id": "f71cebae",
   "metadata": {},
   "outputs": [
    {
     "data": {
      "image/png": "[encoded data removed]",
      "text/plain": [
       "<Figure size 1000x800 with 2 Axes>"
      ]
     },
     "metadata": {},
     "output_type": "display_data"
    }
   ],
   "source": [
    "# Plot confusion matrix for Custom CNN\n",
    "plt.figure(figsize=(10, 8))\n",
    "plt.imshow(conf_matrix_custom, interpolation='nearest', cmap=plt.cm.Blues)\n",
    "plt.title('Confusion Matrix - Custom CNN')\n",
    "plt.colorbar()\n",
    "plt.show()"
   ]
  },
  {
   "cell_type": "code",
   "execution_count": 14,
   "id": "eed054b5",
   "metadata": {},
   "outputs": [
    {
     "data": {
      "image/png": "[encoded data removed]",
      "text/plain": [
       "<Figure size 1000x800 with 2 Axes>"
      ]
     },
     "metadata": {},
     "output_type": "display_data"
    }
   ],
   "source": [
    "# Plot confusion matrix for MobileNet\n",
    "plt.figure(figsize=(10, 8))\n",
    "plt.imshow(conf_matrix_mobilenet, interpolation='nearest', cmap=plt.cm.Blues)\n",
    "plt.title('Confusion Matrix - MobileNet')\n",
    "plt.colorbar()\n",
    "plt.show()"
   ]
  },
  {
   "cell_type": "code",
   "execution_count": 15,
   "id": "f00f6096",
   "metadata": {},
   "outputs": [
    {
     "name": "stdout",
     "output_type": "stream",
     "text": [
      "+------------+------------+\n",
      "| Model      |   Accuracy |\n",
      "+============+============+\n",
      "| Custom CNN |   0.98559  |\n",
      "+------------+------------+\n",
      "| MobileNet  |   0.972456 |\n",
      "+------------+------------+\n"
     ]
    }
   ],
   "source": [
    "# Tabular comparison\n",
    "comparison_data = [\n",
    "    [\"Model\", \"Accuracy\"],\n",
    "    [\"Custom CNN\", acc_custom],\n",
    "    [\"MobileNet\", acc_mobilenet]\n",
    "]\n",
    "print(tabulate(comparison_data, headers=\"firstrow\", tablefmt=\"grid\"))"
   ]
  },
  {
   "cell_type": "code",
   "execution_count": null,
   "id": "16e30110",
   "metadata": {},
   "outputs": [],
   "source": []
  }
 ],
 "metadata": {
  "kernelspec": {
   "display_name": "Python 3",
   "language": "python",
   "name": "python3"
  },
  "language_info": {
   "codemirror_mode": {
    "name": "ipython",
    "version": 3
   },
   "file_extension": ".py",
   "mimetype": "text/x-python",
   "name": "python",
   "nbconvert_exporter": "python",
   "pygments_lexer": "ipython3",
   "version": "3.10.0"
  }
 },
 "nbformat": 4,
 "nbformat_minor": 5
}
